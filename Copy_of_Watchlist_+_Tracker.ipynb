{
  "nbformat": 4,
  "nbformat_minor": 0,
  "metadata": {
    "colab": {
      "name": "Copy of Watchlist + Tracker",
      "provenance": [],
      "collapsed_sections": [],
      "include_colab_link": true
    },
    "kernelspec": {
      "name": "python3",
      "display_name": "Python 3"
    }
  },
  "cells": [
    {
      "cell_type": "markdown",
      "metadata": {
        "id": "view-in-github",
        "colab_type": "text"
      },
      "source": [
        "<a href=\"https://colab.research.google.com/github/patrickongwong/ColabProjects/blob/master/Copy_of_Watchlist_%2B_Tracker.ipynb\" target=\"_parent\"><img src=\"https://colab.research.google.com/assets/colab-badge.svg\" alt=\"Open In Colab\"/></a>"
      ]
    },
    {
      "cell_type": "markdown",
      "metadata": {
        "id": "ZOc_TpDEXvaz",
        "colab_type": "text"
      },
      "source": [
        "# Code"
      ]
    },
    {
      "cell_type": "code",
      "metadata": {
        "id": "-o5tQ3bJW7uR",
        "colab_type": "code",
        "colab": {
          "base_uri": "https://localhost:8080/",
          "height": 377
        },
        "outputId": "9417c119-f256-4b85-c7fe-887699ab4a3e"
      },
      "source": [
        "import plotly\n",
        "import requests\n",
        "import numpy as np\n",
        "import pandas as pd\n",
        "!pip install yfinance\n",
        "import yfinance as yf"
      ],
      "execution_count": null,
      "outputs": [
        {
          "output_type": "stream",
          "text": [
            "Collecting yfinance\n",
            "  Downloading https://files.pythonhosted.org/packages/c2/31/8b374a12b90def92a4e27d0fc595fc43635f395984e36a075244d98bd265/yfinance-0.1.54.tar.gz\n",
            "Requirement already satisfied: pandas>=0.24 in /usr/local/lib/python3.6/dist-packages (from yfinance) (1.0.5)\n",
            "Requirement already satisfied: numpy>=1.15 in /usr/local/lib/python3.6/dist-packages (from yfinance) (1.18.5)\n",
            "Requirement already satisfied: requests>=2.20 in /usr/local/lib/python3.6/dist-packages (from yfinance) (2.23.0)\n",
            "Requirement already satisfied: multitasking>=0.0.7 in /usr/local/lib/python3.6/dist-packages (from yfinance) (0.0.9)\n",
            "Requirement already satisfied: python-dateutil>=2.6.1 in /usr/local/lib/python3.6/dist-packages (from pandas>=0.24->yfinance) (2.8.1)\n",
            "Requirement already satisfied: pytz>=2017.2 in /usr/local/lib/python3.6/dist-packages (from pandas>=0.24->yfinance) (2018.9)\n",
            "Requirement already satisfied: chardet<4,>=3.0.2 in /usr/local/lib/python3.6/dist-packages (from requests>=2.20->yfinance) (3.0.4)\n",
            "Requirement already satisfied: idna<3,>=2.5 in /usr/local/lib/python3.6/dist-packages (from requests>=2.20->yfinance) (2.10)\n",
            "Requirement already satisfied: certifi>=2017.4.17 in /usr/local/lib/python3.6/dist-packages (from requests>=2.20->yfinance) (2020.6.20)\n",
            "Requirement already satisfied: urllib3!=1.25.0,!=1.25.1,<1.26,>=1.21.1 in /usr/local/lib/python3.6/dist-packages (from requests>=2.20->yfinance) (1.24.3)\n",
            "Requirement already satisfied: six>=1.5 in /usr/local/lib/python3.6/dist-packages (from python-dateutil>=2.6.1->pandas>=0.24->yfinance) (1.15.0)\n",
            "Building wheels for collected packages: yfinance\n",
            "  Building wheel for yfinance (setup.py) ... \u001b[?25l\u001b[?25hdone\n",
            "  Created wheel for yfinance: filename=yfinance-0.1.54-py2.py3-none-any.whl size=22409 sha256=4ff7c7b0e712285f77c70bdcdc00a9821ab344d1a54b2f850084ffc8acf38883\n",
            "  Stored in directory: /root/.cache/pip/wheels/f9/e3/5b/ec24dd2984b12d61e0abf26289746c2436a0e7844f26f2515c\n",
            "Successfully built yfinance\n",
            "Installing collected packages: yfinance\n",
            "Successfully installed yfinance-0.1.54\n"
          ],
          "name": "stdout"
        }
      ]
    },
    {
      "cell_type": "code",
      "metadata": {
        "id": "WiSk0-1qW9Mg",
        "colab_type": "code",
        "colab": {}
      },
      "source": [
        "# yFinance Important functions\n",
        "def price_taker(tickers, per):\n",
        "    data = pd.DataFrame()\n",
        "    for ticker in tickers:\n",
        "\n",
        "        try:\n",
        "            stock = yf.Ticker(ticker)\n",
        "            hist = stock.history(period=per)\n",
        "            hist['Ticker'] = ticker\n",
        "            data = data.append(hist.resample('D').fillna(\"pad\"))\n",
        "        except:\n",
        "            print(\"error on \", ticker)\n",
        "            pass\n",
        "    return data\n",
        "\n",
        "# Formula for total returns for a time period\n",
        "def total_returns(start, end, df, ytd):\n",
        "    df = df.loc[(df.index > start) & (df.index <= end)]\n",
        "    total_divs = df['Dividends'].sum()\n",
        "    if ytd == True:\n",
        "        start_price = df['Open'].iloc[0]\n",
        "    else:\n",
        "        start_price = df['Close'].iloc[0]\n",
        "    \n",
        "    end_price = df['Close'].iloc[-1]\n",
        "    answer = total_divs/start_price + end_price/start_price -1 \n",
        "    return answer\n",
        "\n",
        "def price_returns(start, end, df, ytd):\n",
        "    df = df.loc[(df.index > start) & (df.index <= end)]\n",
        "\n",
        "    if ytd == True:\n",
        "        start_price = df['Open'].iloc[0]\n",
        "    else:\n",
        "        start_price = df['Close'].iloc[0]\n",
        "    \n",
        "    end_price = df['Close'].iloc[-1]\n",
        "    answer = end_price/start_price -1\n",
        "    return answer\n",
        "\n",
        "def div_returns(start, end, df, ytd):\n",
        "    df = df.loc[(df.index > start) & (df.index <= end)]\n",
        "    total_divs = df['Dividends'].sum()\n",
        "\n",
        "    if ytd == True:\n",
        "        start_price = df['Open'].iloc[0]\n",
        "    else:\n",
        "        start_price = df['Close'].iloc[0]\n",
        "    \n",
        "    answer = total_divs/start_price\n",
        "    return answer\n"
      ],
      "execution_count": null,
      "outputs": []
    },
    {
      "cell_type": "code",
      "metadata": {
        "id": "g3JWBopoW_RF",
        "colab_type": "code",
        "colab": {
          "base_uri": "https://localhost:8080/",
          "height": 207
        },
        "outputId": "6cf3a840-ed2c-4250-afad-c77b3d269788"
      },
      "source": [
        "!pip install gspread_formatting\n",
        "import gspread\n",
        "from google.colab import auth\n",
        "auth.authenticate_user()\n",
        "from oauth2client.client import GoogleCredentials\n",
        "from gspread_dataframe import get_as_dataframe, set_with_dataframe\n",
        "from gspread_formatting import *\n",
        "\n",
        "gc = gspread.authorize(GoogleCredentials.get_application_default())\n",
        "\n",
        "worksheet = gc.create('New Sheet').sheet1\n"
      ],
      "execution_count": null,
      "outputs": [
        {
          "output_type": "stream",
          "text": [
            "Collecting gspread_formatting\n",
            "  Downloading https://files.pythonhosted.org/packages/49/f8/83e4a8e53385c82a0ea92ad57f9cbcabb9e9df7dce234d5918f0ee612da4/gspread_formatting-0.3.0-py2.py3-none-any.whl\n",
            "Requirement already satisfied: gspread>=3.0.0 in /usr/local/lib/python3.6/dist-packages (from gspread_formatting) (3.0.1)\n",
            "Requirement already satisfied: requests>=2.2.1 in /usr/local/lib/python3.6/dist-packages (from gspread>=3.0.0->gspread_formatting) (2.23.0)\n",
            "Requirement already satisfied: urllib3!=1.25.0,!=1.25.1,<1.26,>=1.21.1 in /usr/local/lib/python3.6/dist-packages (from requests>=2.2.1->gspread>=3.0.0->gspread_formatting) (1.24.3)\n",
            "Requirement already satisfied: idna<3,>=2.5 in /usr/local/lib/python3.6/dist-packages (from requests>=2.2.1->gspread>=3.0.0->gspread_formatting) (2.10)\n",
            "Requirement already satisfied: chardet<4,>=3.0.2 in /usr/local/lib/python3.6/dist-packages (from requests>=2.2.1->gspread>=3.0.0->gspread_formatting) (3.0.4)\n",
            "Requirement already satisfied: certifi>=2017.4.17 in /usr/local/lib/python3.6/dist-packages (from requests>=2.2.1->gspread>=3.0.0->gspread_formatting) (2020.6.20)\n",
            "Installing collected packages: gspread-formatting\n",
            "Successfully installed gspread-formatting-0.3.0\n"
          ],
          "name": "stdout"
        }
      ]
    },
    {
      "cell_type": "code",
      "metadata": {
        "id": "W9qfltazXIg2",
        "colab_type": "code",
        "colab": {
          "base_uri": "https://localhost:8080/",
          "height": 51
        },
        "outputId": "159256b8-f55a-4335-fd80-cbd65d7f5729"
      },
      "source": [
        "today = '2020-08-18'\n",
        "\n",
        "start = pd.Timestamp('2020-01-01')\n",
        "end = pd.Timestamp(today)\n",
        "end_less_wk = end - np.timedelta64(7,'D')\n",
        "end_less_day = end - np.timedelta64(2,'D')\n",
        "\n",
        "global_dict = {'MSCI World' : 'MWL=F',\n",
        "               'MSCI EM'    : 'MME=F'}\n",
        "\n",
        "US_dict = {'S&P 500'    : '^GSPC',\n",
        "           'Dow Jones Index' : '^DJI',\n",
        "           'Russell 2000' : '^RUT',\n",
        "           'NASDAQ Comp' : '^IXIC'}\n",
        "\n",
        "EU_dict = {'Stoxx 50'    : '^STOXX50E', #Stoxx50\n",
        "           'EURONEXT 100' : '^N100', #EURONEXT 100\n",
        "           'Germany' : '^GDAXI', #DAX\n",
        "           'Switzerland' : '^SSMI', #Swiss Index\n",
        "           'France' : '^FCHI', #CAC 40\n",
        "           'United Kingdoms' : '^FTSE', #FTSE 100\n",
        "           #'Italy' : 'FTSEMIBN.MI', #FTSE MIB Net Total Returns\n",
        "           'Spain'  : '^IBEX' #IBEX\n",
        "           }\n",
        "\n",
        "Asia_dict = {'Japan' : '^N225', #Nikkei 225\n",
        "             #'China CSI 300': '000300.SS', #China CSI 300\n",
        "             'China H-Shares': '^HSCE', #China H-Shares\n",
        "             'Hong Kong': '^HSI', #Hang Seng Index\n",
        "             'Shenzhen Comp': '399001.SZ', #Shenzhen Composite\n",
        "             'Australia': '^AXJO', #ASX 200\n",
        "             'Philippines': 'PSEI.PS', #PSEI\n",
        "             'Singapore':'^STI', #STI Index\n",
        "             'Indonesia':'^JKSE', #Jakarta Composite Index\n",
        "             'India Sensex':'^BSESN', #S&P BSE SENSEX\n",
        "             'Malaysia':'^KLSE', #FTSE Bursa Malaysia KLCI\n",
        "             #'Vietnam':'FVTT.FGI', #FTSE Vietnam\n",
        "             #'Thailand':'^SET.BK', #SET Index\n",
        "             'Taiwan':'^TWII', #TSEC Weighted Index\n",
        "             'Korea':'^KS11' #KOSPI Composite Index\n",
        "            }\n",
        "\n",
        "comm_dict = {'Gold': 'GC=F', # Gold Futures\n",
        "             'Silver': 'SI=F', # Silver Futures\n",
        "             'Oil (WTI)':'CL=F', # Crude Oil Futures, WTI\n",
        "             'Oil (Brent)':'BZ=F', # Oil Futures, Brent\n",
        "             'Platinum':'PL=F' #Platinum Futures\n",
        "             }\n",
        "\n",
        "vol_dict = {'S&P 500 VIX Index':'^VIX'\n",
        "            }\n",
        "\n",
        "us_ind_dict = {'Technology':'XLK',\n",
        "               'Energy':'XLE',\n",
        "               'Financials':'XLF',\n",
        "               'Healthcare':'XLV',\n",
        "               'Cons Disc':'XLY',\n",
        "               'Industrial':'XLI',\n",
        "               'Material':'XLB',\n",
        "               'Utilities':'XLU',\n",
        "               'Cons Staples':'XLP',\n",
        "               'Real Estate':'IYR'\n",
        "              }\n",
        "\n",
        "us_fact_dict = {'Largecap Growth':'VUG',\n",
        "                'Largecap Value':'VTV',\n",
        "                'Largecap Blend':'VV',\n",
        "                'Midcap Growth':'VOT',\n",
        "                'Midcap Value':'VOE',\n",
        "                'Midcap Blend':'VO',\n",
        "                'Smallcap Growth':'VBK',\n",
        "                'Smallcap Value':'VBR',\n",
        "                'Smallcap Blend':'VB'\n",
        "              }\n",
        "\n",
        "fmt5 = cellFormat(\n",
        "    numberFormat = numberFormat(type='PERCENT', pattern='0.00%')\n",
        "    )\n",
        "\n",
        "def get_key(val, dict1): \n",
        "    for key, value in dict1.items(): \n",
        "         if val == value: \n",
        "             return key \n",
        "  \n",
        "    return \"key doesn't exist\"\n",
        "\n",
        "def dict_returns_gsheet(dictionary, rowz, columnz):\n",
        "  global start\n",
        "  global end\n",
        "  global end_less_wk\n",
        "  global end_less_day\n",
        "\n",
        "  ans = pd.DataFrame()\n",
        "\n",
        "  df = price_taker(dictionary.values(), 'ytd')\n",
        "  df['Ticker'] = df['Ticker'].apply(lambda x : get_key(x , dictionary))\n",
        "  ytd_returns = df.groupby('Ticker').apply(lambda x: total_returns(start, end, x, True))\n",
        "  wk_returns = df.groupby('Ticker').apply(lambda x: total_returns(end_less_wk, end, x, False))\n",
        "  day_returns = df.groupby('Ticker').apply(lambda x: total_returns(end_less_day, end, x, False))\n",
        "  end_price = df.groupby('Ticker').apply(lambda x: x['Close'].iloc[-1])\n",
        "\n",
        "  ans['last'] = end_price\n",
        "  ans['1D%'] = day_returns\n",
        "  ans['1Wk%'] = wk_returns\n",
        "  ans['YTD%'] = ytd_returns\n",
        "\n",
        "  ans = ans.sort_values(by=['1Wk%'], ascending = False)\n",
        "\n",
        "  set_with_dataframe(worksheet, ans, include_index=True, row=rowz, col=columnz, include_column_header = False)\n",
        "\n",
        "  return ans\n",
        "\n",
        "worksheet.update_cell(2, 3, \"World Markets: \"+str(today))\n",
        "dict_returns_gsheet(global_dict, 5, 3)\n",
        "dict_returns_gsheet(US_dict, 9, 3)\n",
        "dict_returns_gsheet(us_ind_dict, 15, 3)\n",
        "dict_returns_gsheet(us_fact_dict, 27, 3)\n",
        "\n",
        "\n",
        "dict_returns_gsheet(EU_dict, 5, 9)\n",
        "dict_returns_gsheet(Asia_dict, 14, 9)\n",
        "dict_returns_gsheet(comm_dict, 28, 9)\n",
        "\n",
        "dict_returns_gsheet(vol_dict, 35, 9)\n",
        "\n",
        "format_cell_range(worksheet, 'E:G', fmt5)\n",
        "format_cell_range(worksheet, 'K:M', fmt5)\n"
      ],
      "execution_count": null,
      "outputs": [
        {
          "output_type": "execute_result",
          "data": {
            "text/plain": [
              "{'replies': [{}],\n",
              " 'spreadsheetId': '1XNAKOJVvp-QARbPN9HN4_jRRF54uESG3c_pkLuV0ptA'}"
            ]
          },
          "metadata": {
            "tags": []
          },
          "execution_count": 6
        }
      ]
    },
    {
      "cell_type": "code",
      "metadata": {
        "id": "A3koMqSD5HGY",
        "colab_type": "code",
        "colab": {}
      },
      "source": [
        ""
      ],
      "execution_count": null,
      "outputs": []
    }
  ]
}